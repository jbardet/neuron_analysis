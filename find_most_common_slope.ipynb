{
 "cells": [
  {
   "cell_type": "code",
   "execution_count": 4,
   "id": "c8990666-a941-4f93-a096-dd855bf04c1d",
   "metadata": {},
   "outputs": [],
   "source": [
    "import cv2\n",
    "import numpy as np\n",
    "import os\n",
    "from math import atan2, cos, sin, sqrt, pi\n",
    "from collections import Counter"
   ]
  },
  {
   "cell_type": "code",
   "execution_count": 6,
   "id": "c4d18dab-5691-436b-ad4f-56325da6b07e",
   "metadata": {},
   "outputs": [],
   "source": [
    "#PATH = 'ternausnet/test_data/images/'\n",
    "PATHS = ['ternausnet/train_data/images/', 'ternausnet/val_data/images/', 'ternausnet/test_data/images/']\n",
    "\n",
    "most_common = []\n",
    "for PATH in PATHS : \n",
    "    for root, _, files in os.walk(PATH):\n",
    "        images = [os.path.join(root, f) for f in files]\n",
    "        for image in images : \n",
    "            # Read image \n",
    "            img = cv2.imread(image, cv2.IMREAD_COLOR) # road.png is the filename\n",
    "            # Convert the image to gray-scale\n",
    "            gray = cv2.cvtColor(img, cv2.COLOR_BGR2GRAY)\n",
    "            # Find the edges in the image using canny detector\n",
    "            edges = cv2.Canny(gray, 110, 140)\n",
    "            lines = cv2.HoughLinesP(edges, 1, np.pi/180, 100, minLineLength=800, maxLineGap=800)\n",
    "            # Draw lines on the image\n",
    "            angles = []\n",
    "            if lines is not None: \n",
    "                for line in lines:\n",
    "                    x1, y1, x2, y2 = line[0]\n",
    "                    slope = ((y2-y1)/(x1-x2))\n",
    "                    angles.append(round(slope, 2))\n",
    "                # Show result\n",
    "                #print(angles)\n",
    "                c = Counter(angles)\n",
    "                c.most_common(1)\n",
    "                most_common.append(c.most_common(1)[0][0])\n",
    "            if lines is not None: \n",
    "                for line in lines:\n",
    "                    x1, y1, x2, y2 = line[0]\n",
    "                    slope = ((y2-y1)/(x1-x2))\n",
    "                    if round(slope, 2) == 0.23 or round(slope, 2) == 0.51:\n",
    "                        cv2.line(img, (x1, y1), (x2, y2), (255, 0, 0), 3)"
   ]
  },
  {
   "cell_type": "code",
   "execution_count": 12,
   "id": "4492295e-d416-4698-b04b-69f274dbeb0f",
   "metadata": {},
   "outputs": [
    {
     "name": "stdout",
     "output_type": "stream",
     "text": [
      "The most common slopes are :  (0.51, 28)\n"
     ]
    }
   ],
   "source": [
    "print(\"The most common slopes are : \", Counter(most_common).most_common(2)[0])"
   ]
  }
 ],
 "metadata": {
  "kernelspec": {
   "display_name": "Python 3",
   "language": "python",
   "name": "python3"
  },
  "language_info": {
   "codemirror_mode": {
    "name": "ipython",
    "version": 3
   },
   "file_extension": ".py",
   "mimetype": "text/x-python",
   "name": "python",
   "nbconvert_exporter": "python",
   "pygments_lexer": "ipython3",
   "version": "3.8.8"
  }
 },
 "nbformat": 4,
 "nbformat_minor": 5
}
