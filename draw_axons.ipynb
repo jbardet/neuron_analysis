{
 "cells": [
  {
   "cell_type": "code",
   "execution_count": 1,
   "id": "9ffa52b4-ca86-4bcc-b140-2d40ece72119",
   "metadata": {},
   "outputs": [],
   "source": [
    "import cv2\n",
    "import numpy as np\n",
    "import os\n",
    "from math import tan, atan2, cos, sin, sqrt, pi\n",
    "from collections import Counter\n",
    "import pandas as pd\n",
    "import re"
   ]
  },
  {
   "cell_type": "code",
   "execution_count": 2,
   "id": "d7dfdb7b-c64c-4688-9f03-fa4b485a529c",
   "metadata": {},
   "outputs": [],
   "source": [
    "def drawAxis(img, p_, q_, color, scale): \n",
    "  p = list(p_) \n",
    "  q = list(q_) \n",
    "\n",
    "  ## [visualization1] \n",
    "  angle = atan2(p[1] - q[1], p[0] - q[0]) # angle in radians \n",
    "  hypotenuse = sqrt((p[1] - q[1]) * (p[1] - q[1]) + (p[0] - q[0]) * (p[0] - q[0])) \n",
    "  # Here we lengthen the arrow by a factor of scale \n",
    "  q[0] = p[0] - scale * hypotenuse * cos(angle) \n",
    "  q[1] = p[1] - scale * hypotenuse * sin(angle) \n",
    "  cv2.line(img, (int(p[0]), int(p[1])), (int(q[0]), int(q[1])), color, 3, cv2.LINE_AA) \n",
    "  # create the arrow hooks \n",
    "  p[0] = q[0] + 9 * cos(angle + pi / 4) \n",
    "  p[1] = q[1] + 9 * sin(angle + pi / 4) \n",
    "  cv2.line(img, (int(p[0]), int(p[1])), (int(q[0]), int(q[1])), color, 3, cv2.LINE_AA) \n",
    "  p[0] = q[0] + 9 * cos(angle - pi / 4) \n",
    "  p[1] = q[1] + 9 * sin(angle - pi / 4) \n",
    "  cv2.line(img, (int(p[0]), int(p[1])), (int(q[0]), int(q[1])), color, 3, cv2.LINE_AA) \n",
    "  ## [visualization1] \n",
    "\n",
    "def getOrientation(pts, img, img_o): \n",
    "  ## [pca] \n",
    "  # Construct a buffer used by the pca analysis \n",
    "  sz = len(pts) \n",
    "  data_pts = np.empty((sz, 2), dtype=np.float64) \n",
    "  for i in range(data_pts.shape[0]): \n",
    "    data_pts[i,0] = pts[i,0,0] \n",
    "    data_pts[i,1] = pts[i,0,1]\n",
    "\n",
    "  # Perform PCA analysis \n",
    "  mean = np.empty((0)) \n",
    "  mean, eigenvectors, eigenvalues = cv2.PCACompute2(data_pts, mean) \n",
    "  # Store the center of the object \n",
    "  cntr = (int(mean[0,0]), int(mean[0,1])) \n",
    "  ## [pca] \n",
    "  ## [visualization] \n",
    "  # Draw the principal components \n",
    "  cv2.circle(img, cntr, 3, (255, 0, 255), 2) \n",
    "  p1 = (cntr[0] + 0.02 * eigenvectors[0,0] * eigenvalues[0,0], cntr[1] + 0.02 * eigenvectors[0,1] * eigenvalues[0,0]) \n",
    "  p2 = (cntr[0] - 0.02 * eigenvectors[1,0] * eigenvalues[1,0], cntr[1] - 0.02 * eigenvectors[1,1] * eigenvalues[1,0]) \n",
    "  drawAxis(img_o, cntr, p1, (255, 255, 0), 1) \n",
    "  drawAxis(img_o, cntr, p2, (0, 0, 255), 5) \n",
    "  angle = atan2(eigenvectors[0,1], eigenvectors[0,0]) # orientation in radians \n",
    "  ## [visualization] \n",
    "  # Label with the rotation angle \n",
    "  label = \"  Rotation Angle: \" + str(int(np.rad2deg(angle)) + 90) + \" degrees\" \n",
    "  textbox = cv2.rectangle(img_o, (cntr[0], cntr[1]-25), (cntr[0] + 250, cntr[1] + 10), (255,255,255), -1) \n",
    "  cv2.putText(img_o, label, (cntr[0], cntr[1]), cv2.FONT_HERSHEY_SIMPLEX, 0.5, (0,0,0), 1, cv2.LINE_AA) \n",
    "  return angle "
   ]
  },
  {
   "cell_type": "code",
   "execution_count": null,
   "id": "314d53f2-a65c-439d-9b44-ebb052d13cb3",
   "metadata": {},
   "outputs": [],
   "source": [
    "# Load the image mask and normal image\n",
    "img = cv2.imread('ternausnet/train_data/masks_with_axons/mask_16.jpg')\n",
    "img_o = cv2.imread('ternausnet/train_data/images/image_16.tif') \n",
    "\n",
    "th, threshed = cv2.threshold(img, 240, 256, cv2.THRESH_BINARY_INV)\n",
    "#cv2.imshow('Gray Image', threshed) \n",
    "#contours = cv2.getStructuringElement(shape=cv2.MORPH_ELLIPSE, ksize=(5, 5))\n",
    "#closing = cv2.morphologyEx(threshed, cv2.MORPH_CLOSE, contours, iterations=1)\n",
    "threshed = cv2.cvtColor(threshed, cv2.COLOR_BGR2GRAY)\n",
    "contours, _ = cv2.findContours(threshed, cv2.RETR_LIST, cv2.CHAIN_APPROX_NONE)\n",
    "for i,c in enumerate(contours):\n",
    "  area = cv2.contourArea(c)\n",
    "  # ignore contour which is too small or large\n",
    "  if area < 1e2 or 1e5 < area:\n",
    "    continue\n",
    "  # draw each contour only for visualization\n",
    "  cv2.drawContours(img_o, contours, i, (0, 0, 255), 2)\n",
    "  # find orientation of each shape\n",
    "  angle = getOrientation(c,threshed, img_o)\n",
    "cv2.imshow('Image with Orientations',img_o)\n",
    "cv2.waitKey(0) \n",
    "cv2.destroyAllWindows() "
   ]
  },
  {
   "cell_type": "code",
   "execution_count": null,
   "id": "22fd1ae8-97a4-4c1e-8218-880d69bbf162",
   "metadata": {},
   "outputs": [],
   "source": []
  }
 ],
 "metadata": {
  "kernelspec": {
   "display_name": "Python 3 (ipykernel)",
   "language": "python",
   "name": "python3"
  },
  "language_info": {
   "codemirror_mode": {
    "name": "ipython",
    "version": 3
   },
   "file_extension": ".py",
   "mimetype": "text/x-python",
   "name": "python",
   "nbconvert_exporter": "python",
   "pygments_lexer": "ipython3",
   "version": "3.9.7"
  }
 },
 "nbformat": 4,
 "nbformat_minor": 5
}
