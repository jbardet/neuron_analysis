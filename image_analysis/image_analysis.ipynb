{
 "cells": [
  {
   "cell_type": "code",
   "execution_count": null,
   "id": "81cf661d-6a66-43d8-bcf6-827b21ffedfd",
   "metadata": {},
   "outputs": [],
   "source": [
    "import matplotlib.pyplot as plt\n",
    "import numpy as np\n",
    "from scipy import ndimage, signal\n",
    "from PIL import Image\n",
    "import cv2"
   ]
  },
  {
   "cell_type": "code",
   "execution_count": null,
   "id": "0da0b3a7-e657-405b-90a7-477d84ab96f6",
   "metadata": {},
   "outputs": [],
   "source": [
    "def plot(data, title):\n",
    "    plot.i += 1\n",
    "    plt.subplot(3,3,plot.i)\n",
    "    plt.imshow(data)\n",
    "    plt.gray()\n",
    "    plt.title(title)"
   ]
  },
  {
   "cell_type": "code",
   "execution_count": null,
   "id": "af71ad6e-764d-4df7-88a4-982140a31fb0",
   "metadata": {},
   "outputs": [],
   "source": [
    "plot.i = 0\n",
    "# Load the data...\n",
    "im = Image.open('F3.tif')\n",
    "data = np.array(im, dtype=float)\n",
    "plot(data, 'Original')"
   ]
  },
  {
   "cell_type": "code",
   "execution_count": null,
   "id": "f6c3ef23-5896-4cfe-a5b9-2249d21ede21",
   "metadata": {},
   "outputs": [],
   "source": [
    "# A very simple and very narrow highpass filter\n",
    "kernel = np.array([[-1, -1, -1],\n",
    "                   [-1,  9, -1],\n",
    "                   [-1, -1, -1]])\n",
    "highpass_3x3 = ndimage.convolve(data, kernel)\n",
    "plot(highpass_3x3, 'Simple 3x3 Highpass')"
   ]
  },
  {
   "cell_type": "code",
   "execution_count": null,
   "id": "00f991b6-f1eb-442d-8847-4da90a1bef68",
   "metadata": {},
   "outputs": [],
   "source": [
    "# A very simple and very narrow highpass filter\n",
    "kernel = np.array([[0, -1, 0],\n",
    "                   [-1,  5, -1],\n",
    "                   [0, -1, 0]])\n",
    "highpass_3x3 = ndimage.convolve(data, kernel)\n",
    "plot(highpass_3x3, 'Simple 3x3 Highpass')"
   ]
  },
  {
   "cell_type": "code",
   "execution_count": null,
   "id": "f3c1718d-77ec-40e7-b3fa-6decfc7d95f2",
   "metadata": {},
   "outputs": [],
   "source": [
    "# A very simple and very narrow highpass filter\n",
    "kernel = np.array([[1, -2, 1],\n",
    "                   [-2,  5, -2],\n",
    "                   [1, -2, 1]])\n",
    "highpass_3x3 = ndimage.convolve(data, kernel)\n",
    "plot(highpass_3x3, 'Simple 3x3 Highpass')"
   ]
  },
  {
   "cell_type": "code",
   "execution_count": null,
   "id": "82d24c7f-78f5-426a-9ba2-b8d51f8a3ef2",
   "metadata": {},
   "outputs": [],
   "source": [
    "# A slightly \"wider\", but sill very simple highpass filter \n",
    "kernel = np.array([[-1, -1, -1, -1, -1],\n",
    "                   [-1,  1,  2,  1, -1],\n",
    "                   [-1,  2,  5,  2, -1],\n",
    "                   [-1,  1,  2,  1, -1],\n",
    "                   [-1, -1, -1, -1, -1]])\n",
    "highpass_5x5 = ndimage.convolve(data, kernel)\n",
    "plot(highpass_5x5, 'Simple 5x5 Highpass')"
   ]
  },
  {
   "cell_type": "code",
   "execution_count": null,
   "id": "1575c430-3d58-4783-a5b2-933f5afcee11",
   "metadata": {},
   "outputs": [],
   "source": [
    "# Another way of making a highpass filter is to simply subtract a lowpass\n",
    "# filtered image from the original. Here, we'll use a simple gaussian filter\n",
    "# to \"blur\" (i.e. a lowpass filter) the original.\n",
    "lowpass = ndimage.gaussian_filter(data, 5)\n",
    "gauss_highpass = data - lowpass\n",
    "plot(gauss_highpass, r'Gaussian Highpass, $\\sigma = 3 pixels$')\n",
    "\n",
    "plt.show()"
   ]
  },
  {
   "cell_type": "code",
   "execution_count": null,
   "id": "3ae14010-3f59-4870-9ef7-f4212a6a1f82",
   "metadata": {},
   "outputs": [],
   "source": [
    "#Code for histogram equalization\n",
    "img = cv2.imread('F3.tif', 1)\n",
    "#cv2.imshow(\"img\",img)\n",
    "#equ = cv2.equalizeHist(img)\n",
    "plot(img, 'Original')\n",
    "imgray = cv2.cvtColor(img,cv2.COLOR_BGR2GRAY)\n",
    "plot(imgray, 'grey')\n",
    "equ = cv2.equalizeHist(imgray)\n",
    "plot(equ, 'Filtered')\n",
    "#cv2.imshow('equ', equ)\n",
    "\n",
    "#Code for contrast limited adaptive histogram equalization\n",
    "#clahe = cv2.createCLAHE(clipLimit=3.0, tileGridSize=(8,8))\n",
    "#cl2 = clahe.apply(imgray)\n",
    "#cv2.imshow('clahe2', cl2)"
   ]
  },
  {
   "cell_type": "code",
   "execution_count": null,
   "id": "06d10299-7320-4251-9108-087fa247e35a",
   "metadata": {},
   "outputs": [],
   "source": [
    "def butterLow(cutoff, critical, order):\n",
    "    normal_cutoff = float(cutoff) / critical\n",
    "    b, a = signal.butter(order, normal_cutoff, btype='lowpass')\n",
    "    return b, a"
   ]
  },
  {
   "cell_type": "code",
   "execution_count": null,
   "id": "8c47c358-c73b-45c1-98e6-fd085faed84e",
   "metadata": {},
   "outputs": [],
   "source": [
    "def butterFilter(data, cutoff_freq, nyq_freq, order):\n",
    "    b, a = butterLow(cutoff_freq, nyq_freq, order)\n",
    "    y = signal.filtfilt(b, a, data)\n",
    "    return y"
   ]
  },
  {
   "cell_type": "code",
   "execution_count": null,
   "id": "d323ef21-bdc7-47a5-9421-80cf26080f3b",
   "metadata": {},
   "outputs": [],
   "source": [
    "# Hisatogram of pixel values (for thresholding)\n",
    "# calculate mean value from RGB channels and flatten to 1D array\n",
    "vals = img.mean(axis=2).flatten()\n",
    "# plot histogram with 255 bins\n",
    "b, bins, patches = plt.hist(vals, 255)\n",
    "plt.xlim([0,255])\n",
    "plt.show()\n",
    "\n",
    "# not possible to separate via thresholding"
   ]
  },
  {
   "cell_type": "code",
   "execution_count": null,
   "id": "51710435-376c-40e5-8540-e668cbd84073",
   "metadata": {},
   "outputs": [],
   "source": [
    "# Edge detection \n",
    "\n",
    "# Read the original image\n",
    "# Display original image\n",
    "cv2.imshow('Original', img)\n",
    "cv2.waitKey(0)\n",
    "\n",
    "# Convert to graycsale\n",
    "img_gray = cv2.cvtColor(img, cv2.COLOR_BGR2GRAY)\n",
    "# Blur the image for better edge detection\n",
    "img_blur = cv2.GaussianBlur(img, (3,3), 0) \n",
    "\n",
    "# Sobel Edge Detection\n",
    "sobelx = cv2.Sobel(src=img_blur, ddepth=cv2.CV_64F, dx=1, dy=0, ksize=5) # Sobel Edge Detection on the X axis\n",
    "sobely = cv2.Sobel(src=img_blur, ddepth=cv2.CV_64F, dx=0, dy=1, ksize=5) # Sobel Edge Detection on the Y axis\n",
    "sobelxy = cv2.Sobel(src=img_blur, ddepth=cv2.CV_64F, dx=1, dy=1, ksize=5) # Combined X and Y Sobel Edge Detection\n",
    "# Display Sobel Edge Detection Images\n",
    "cv2.imshow('Sobel X', sobelx)\n",
    "cv2.waitKey(0)\n",
    "cv2.imshow('Sobel Y', sobely)\n",
    "cv2.waitKey(0)\n",
    "cv2.imshow('Sobel X Y using Sobel() function', sobelxy)\n",
    "cv2.waitKey(0)\n",
    "\n",
    "# Canny Edge Detection\n",
    "edges = cv2.Canny(image=img_blur, threshold1=100, threshold2=200) # Canny Edge Detection\n",
    "# Display Canny Edge Detection Image\n",
    "cv2.imshow('Canny Edge Detection', edges)\n",
    "cv2.waitKey(0)\n",
    "\n",
    "cv2.destroyAllWindows()\n",
    "\n",
    "# does not work"
   ]
  },
  {
   "cell_type": "code",
   "execution_count": null,
   "id": "93954b27-9efb-4bbd-95cb-1f3fb94bda0d",
   "metadata": {},
   "outputs": [],
   "source": [
    "# Let's try gray + denoise + filter + thresholding\n",
    "\n",
    "import glob\n",
    "import matplotlib.pyplot as plt\n",
    "import numpy as np\n",
    "import skimage.io\n",
    "import skimage.color\n",
    "import skimage.filters\n",
    "import cv2\n",
    "\n",
    "image = skimage.io.imread(\"F3.tif\")\n",
    "gray_image = skimage.color.rgb2gray(gray_image)\n",
    "#equ = cv2.equalizeHist(gray_image)\n",
    "blurred_image = skimage.filters.gaussian(gray_image, sigma=1.0)\n",
    "histogram, bin_edges = np.histogram(blurred_image, bins=256, range=(0.0, 1.0))\n",
    "plt.plot(bin_edges[0:-1], histogram)\n",
    "plt.title(\"Grayscale Histogram\")\n",
    "plt.xlabel(\"grayscale value\")\n",
    "plt.ylabel(\"pixels\")\n",
    "plt.xlim(0, 1.0)\n",
    "plt.show()"
   ]
  },
  {
   "cell_type": "code",
   "execution_count": null,
   "id": "1d85cec7-bac3-42ce-8930-cdaeb9bfa30e",
   "metadata": {},
   "outputs": [],
   "source": [
    "# create a mask based on the threshold\n",
    "#t = skimage.filters.threshold_otsu(image)\n",
    "#b = 0.45\n",
    "t = 0.6\n",
    "binary_mask = blurred_image < t\n",
    "#binary_mask = binary_mask > b\n",
    "\n",
    "fig, ax = plt.subplots()\n",
    "plt.imshow(binary_mask, cmap='gray')\n",
    "plt.show()"
   ]
  },
  {
   "cell_type": "code",
   "execution_count": null,
   "id": "e70190a1-0bdb-49db-89a4-2b4f58060905",
   "metadata": {},
   "outputs": [],
   "source": []
  }
 ],
 "metadata": {
  "kernelspec": {
   "display_name": "Python 3",
   "language": "python",
   "name": "python3"
  },
  "language_info": {
   "codemirror_mode": {
    "name": "ipython",
    "version": 3
   },
   "file_extension": ".py",
   "mimetype": "text/x-python",
   "name": "python",
   "nbconvert_exporter": "python",
   "pygments_lexer": "ipython3",
   "version": "3.8.8"
  }
 },
 "nbformat": 4,
 "nbformat_minor": 5
}
