{
 "cells": [
  {
   "cell_type": "code",
   "execution_count": 79,
   "id": "89d513c7-f3c1-454c-a1df-1d7fdece29c9",
   "metadata": {},
   "outputs": [],
   "source": [
    "import cv2\n",
    "import numpy as np\n",
    "import os\n",
    "from math import atan, atan2, cos, sin, sqrt, pi\n",
    "from collections import Counter\n",
    "import pandas as pd\n",
    "import re\n",
    "import matplotlib.pyplot as plt\n",
    "from itertools import chain"
   ]
  },
  {
   "cell_type": "code",
   "execution_count": 80,
   "id": "3eb0fec1-32e7-43fd-b64b-4f25f59bbf23",
   "metadata": {},
   "outputs": [],
   "source": [
    "grid = ['image_2', 'image_3', 'image_5', 'image_6', 'image_8', 'image_11', 'image_12', 'image_13', 'image_14', 'image_15', 'image_16', 'image_18', \\\n",
    "        'image_19', 'image_20', 'image_21', 'image_22', 'image_23', 'image_24', 'image_25', 'image_26', 'image_27', 'image_28', 'image_29', 'image_30', \\\n",
    "       'image_32', 'image_33', 'image_34', 'image_35', 'image_45', 'image_46', 'image_47', 'image_48', 'image_58', 'image_59', 'image_70', 'image_72', \\\n",
    "       'image_102', 'image_104', 'image_106', 'image_114', 'image_116', 'image_125', 'image_126', 'image_128', 'image_153', 'image_157', 'image_158', 'image_159', \\\n",
    "       'image_1', 'image_4', 'image_7', 'image_10', 'image_17', 'image_31', 'image_36', 'image_57', 'image_60', 'image_71', 'image_105', 'image_107', 'image_108', \\\n",
    "       'image_115', 'image_155', 'image_156', 'image_160', 'image_9', 'image_69', 'image_101', 'image_113','image_127', 'image_156']\n",
    "\n",
    "small_grid = ['image_37', 'image_39', 'image_40', 'image_41', 'image_43', 'image_44', 'image_49', 'image_50', 'image_51', 'image_52', 'image_53', 'image_54', \\\n",
    "        'image_56', 'image_73', 'image_74', 'image_76', 'image_93', 'image_94', 'image_95', 'image_96', 'image_98', 'image_100', 'image_110', 'image_112', \\\n",
    "       'image_129', 'image_131', 'image_133', 'image_134', 'image_136', 'image_137', 'image_139', 'image_140', 'image_142', 'image_144', 'image_149', 'image_150', \\\n",
    "        'image_151', 'image_152', 'image_161', 'image_162', 'image_55', 'image_75', 'image_99', 'image_111', 'image_130', 'image_138', 'image_147', 'image_163', \\\n",
    "        'image_164', 'image_97', 'image_109', 'image_132', 'image_135', 'image_141', 'image_143', 'image_145', 'image_146']\n",
    "\n",
    "no_grid = ['image_62', 'image_64', 'image_65', 'image_66', 'image_67', 'image_68', 'image_77', 'image_79', 'image_80', 'image_81', 'image_83', 'image_84', \\\n",
    "        'image_85', 'image_86', 'image_87', 'image_89', 'image_90', 'image_91', 'image_92', 'image_117', 'image_118', 'image_119', 'image_120', 'image_122', \\\n",
    "       'image_42', 'image_61', 'image_78', 'image_82', 'image_123', 'image_38', 'image_63', 'image_88', 'image_121']\n",
    "\n",
    "other = ['image_103', 'image_148']"
   ]
  },
  {
   "cell_type": "code",
   "execution_count": 81,
   "id": "0ed36848-189d-44f6-8c90-5de02c7cb40e",
   "metadata": {},
   "outputs": [
    {
     "data": {
      "text/plain": [
       "'\\nPATH = [\\'ternausnet/test_data/images/\\', \\'ternausnet/train_data/images/\\', \\'ternausnet/val_data/images/\\']\\n#PATH = \\'ternausnet/train_data/images/\\'\\n\\nresult = pd.DataFrame()\\ntrue_angles = [0.23, 0.51]\\n\\n#most_common = []\\nfor path in PATH : \\n    for root, _, files in os.walk(path):\\n        images = [os.path.join(root, f) for f in files]\\n        for image in images : \\n            # Read image \\n            image_name = os.path.splitext(os.path.basename(image))[0]\\n            img = cv2.imread(image, cv2.IMREAD_COLOR) # road.png is the filename\\n            # Convert the image to gray-scale\\n            gray = cv2.cvtColor(img, cv2.COLOR_BGR2GRAY)\\n            # Find the edges in the image using canny detector\\n            edges = cv2.Canny(gray, 110, 140)\\n            lines = cv2.HoughLinesP(edges, 1, np.pi/180, 100, minLineLength=800, maxLineGap=800)\\n            # Draw lines on the image\\n            angles = []\\n            if lines is not None: \\n                for line in lines:\\n                    x1, y1, x2, y2 = line[0]\\n                    slope = ((y2-y1)/(x1-x2))\\n                    angles.append(round(slope, 2))\\n                    #cv2.line(edges, (x1, y1), (x2, y2), (255, 0, 0), 3)\\n                # Show result\\n                #print(an220gles)\\n                c = Counter(angles)\\n                #c.most_common(1)\\n                most_commons = c.most_common(3)\\n                #print (\"\",most_commons)\\n                #most_common.append(c.most_common(1)[0][0])\\n                if most_commons[0][0] in true_angles :\\n                    result[image_name] = [int(np.rad2deg(tan(most_commons[0][0])))]\\n                elif len(most_commons) > 1 : \\n                    if most_commons[1][0] in true_angles :\\n                        result[image_name] = [int(np.rad2deg(tan(most_commons[1][0])))]\\n            \\n            if lines is not None: \\n                for line in lines:\\n                    x1, y1, x2, y2 = line[0]\\n                    slope = ((y2-y1)/(x1-x2))\\n                    if round(slope, 2) == 0.23 or round(slope, 2) == 0.51:\\n                        cv2.line(img, (x1, y1), (x2, y2), (255, 0, 0), 3)\\n            #cv2.imshow(\"Result Image\", img)\\n            #cv2.waitKey(0)\\n            \\nresult\\n'"
      ]
     },
     "execution_count": 81,
     "metadata": {},
     "output_type": "execute_result"
    }
   ],
   "source": [
    "#not needed anymore since we hardcoded the categories of images but this code was classifying images based on whether we could detect the grid or not \n",
    "\"\"\"\n",
    "PATH = ['ternausnet/test_data/images/', 'ternausnet/train_data/images/', 'ternausnet/val_data/images/']\n",
    "#PATH = 'ternausnet/train_data/images/'\n",
    "\n",
    "result = pd.DataFrame()\n",
    "true_angles = [0.23, 0.51]\n",
    "\n",
    "#most_common = []\n",
    "for path in PATH : \n",
    "    for root, _, files in os.walk(path):\n",
    "        images = [os.path.join(root, f) for f in files]\n",
    "        for image in images : \n",
    "            # Read image \n",
    "            image_name = os.path.splitext(os.path.basename(image))[0]\n",
    "            img = cv2.imread(image, cv2.IMREAD_COLOR) # road.png is the filename\n",
    "            # Convert the image to gray-scale\n",
    "            gray = cv2.cvtColor(img, cv2.COLOR_BGR2GRAY)\n",
    "            # Find the edges in the image using canny detector\n",
    "            edges = cv2.Canny(gray, 110, 140)\n",
    "            lines = cv2.HoughLinesP(edges, 1, np.pi/180, 100, minLineLength=800, maxLineGap=800)\n",
    "            # Draw lines on the image\n",
    "            angles = []\n",
    "            if lines is not None: \n",
    "                for line in lines:\n",
    "                    x1, y1, x2, y2 = line[0]\n",
    "                    slope = ((y2-y1)/(x1-x2))\n",
    "                    angles.append(round(slope, 2))\n",
    "                    #cv2.line(edges, (x1, y1), (x2, y2), (255, 0, 0), 3)\n",
    "                # Show result\n",
    "                #print(an220gles)\n",
    "                c = Counter(angles)\n",
    "                #c.most_common(1)\n",
    "                most_commons = c.most_common(3)\n",
    "                #print (\"\",most_commons)\n",
    "                #most_common.append(c.most_common(1)[0][0])\n",
    "                if most_commons[0][0] in true_angles :\n",
    "                    result[image_name] = [int(np.rad2deg(tan(most_commons[0][0])))]\n",
    "                elif len(most_commons) > 1 : \n",
    "                    if most_commons[1][0] in true_angles :\n",
    "                        result[image_name] = [int(np.rad2deg(tan(most_commons[1][0])))]\n",
    "            \n",
    "            if lines is not None: \n",
    "                for line in lines:\n",
    "                    x1, y1, x2, y2 = line[0]\n",
    "                    slope = ((y2-y1)/(x1-x2))\n",
    "                    if round(slope, 2) == 0.23 or round(slope, 2) == 0.51:\n",
    "                        cv2.line(img, (x1, y1), (x2, y2), (255, 0, 0), 3)\n",
    "            #cv2.imshow(\"Result Image\", img)\n",
    "            #cv2.waitKey(0)\n",
    "            \n",
    "result\n",
    "\"\"\""
   ]
  },
  {
   "cell_type": "code",
   "execution_count": 82,
   "id": "daeb58d3-5818-4009-8924-6f7a07843654",
   "metadata": {},
   "outputs": [],
   "source": [
    "def getPCA(pts, img): \n",
    "  ## [pca] \n",
    "  # Construct a buffer used by the pca analysis \n",
    "  sz = len(pts) \n",
    "  data_pts = np.empty((sz, 2), dtype=np.float64) \n",
    "  for i in range(data_pts.shape[0]): \n",
    "    data_pts[i,0] = pts[i,0,0] \n",
    "    data_pts[i,1] = pts[i,0,1]\n",
    "\n",
    "  # Perform PCA analysis \n",
    "  mean = np.empty((0)) \n",
    "  mean, eigenvectors, eigenvalues = cv2.PCACompute2(data_pts, mean) \n",
    "  angle = atan2(eigenvectors[0,1], eigenvectors[0,0]) # orientation in radians \n",
    "  return angle "
   ]
  },
  {
   "cell_type": "code",
   "execution_count": 83,
   "id": "efb49268-3219-4321-a034-4028e4e223c6",
   "metadata": {},
   "outputs": [
    {
     "name": "stderr",
     "output_type": "stream",
     "text": [
      "/tmp/ipykernel_3169/2268062863.py:29: PerformanceWarning: DataFrame is highly fragmented.  This is usually the result of calling `frame.insert` many times, which has poor performance.  Consider joining all columns at once using pd.concat(axis=1) instead.  To get a de-fragmented frame, use `newframe = frame.copy()`\n",
      "  masks[image_name] = [angles]\n"
     ]
    },
    {
     "data": {
      "text/html": [
       "<div>\n",
       "<style scoped>\n",
       "    .dataframe tbody tr th:only-of-type {\n",
       "        vertical-align: middle;\n",
       "    }\n",
       "\n",
       "    .dataframe tbody tr th {\n",
       "        vertical-align: top;\n",
       "    }\n",
       "\n",
       "    .dataframe thead th {\n",
       "        text-align: right;\n",
       "    }\n",
       "</style>\n",
       "<table border=\"1\" class=\"dataframe\">\n",
       "  <thead>\n",
       "    <tr style=\"text-align: right;\">\n",
       "      <th></th>\n",
       "      <th>image_99</th>\n",
       "      <th>image_55</th>\n",
       "      <th>image_108</th>\n",
       "      <th>image_111</th>\n",
       "      <th>image_123</th>\n",
       "      <th>image_115</th>\n",
       "      <th>image_78</th>\n",
       "      <th>image_61</th>\n",
       "      <th>image_57</th>\n",
       "      <th>image_60</th>\n",
       "      <th>...</th>\n",
       "      <th>image_146</th>\n",
       "      <th>image_88</th>\n",
       "      <th>image_135</th>\n",
       "      <th>image_132</th>\n",
       "      <th>image_154</th>\n",
       "      <th>image_101</th>\n",
       "      <th>image_121</th>\n",
       "      <th>image_9</th>\n",
       "      <th>image_69</th>\n",
       "      <th>image_145</th>\n",
       "    </tr>\n",
       "  </thead>\n",
       "  <tbody>\n",
       "    <tr>\n",
       "      <th>0</th>\n",
       "      <td>[111, 143, 64]</td>\n",
       "      <td>[28]</td>\n",
       "      <td>[155, 135, 82, 18]</td>\n",
       "      <td>[111]</td>\n",
       "      <td>[83]</td>\n",
       "      <td>[109, 81, 20]</td>\n",
       "      <td>[88, 148, 149]</td>\n",
       "      <td>[121, 179, 135]</td>\n",
       "      <td>[]</td>\n",
       "      <td>[176, 116, 83, 74, 87, 57]</td>\n",
       "      <td>...</td>\n",
       "      <td>[]</td>\n",
       "      <td>[33]</td>\n",
       "      <td>[]</td>\n",
       "      <td>[]</td>\n",
       "      <td>[58, 156, 22, 165, 88, 114, 12, 123]</td>\n",
       "      <td>[151]</td>\n",
       "      <td>[70, 104, 3]</td>\n",
       "      <td>[127]</td>\n",
       "      <td>[103, 95]</td>\n",
       "      <td>[77]</td>\n",
       "    </tr>\n",
       "  </tbody>\n",
       "</table>\n",
       "<p>1 rows × 164 columns</p>\n",
       "</div>"
      ],
      "text/plain": [
       "         image_99 image_55           image_108 image_111 image_123  \\\n",
       "0  [111, 143, 64]     [28]  [155, 135, 82, 18]     [111]      [83]   \n",
       "\n",
       "       image_115        image_78         image_61 image_57  \\\n",
       "0  [109, 81, 20]  [88, 148, 149]  [121, 179, 135]       []   \n",
       "\n",
       "                     image_60  ... image_146 image_88 image_135 image_132  \\\n",
       "0  [176, 116, 83, 74, 87, 57]  ...        []     [33]        []        []   \n",
       "\n",
       "                              image_154 image_101     image_121 image_9  \\\n",
       "0  [58, 156, 22, 165, 88, 114, 12, 123]     [151]  [70, 104, 3]   [127]   \n",
       "\n",
       "    image_69 image_145  \n",
       "0  [103, 95]      [77]  \n",
       "\n",
       "[1 rows x 164 columns]"
      ]
     },
     "execution_count": 83,
     "metadata": {},
     "output_type": "execute_result"
    }
   ],
   "source": [
    "# Load the image \n",
    "PATH = ['ternausnet/test_data/masks_with_axons/', 'ternausnet/train_data/masks_with_axons/', 'ternausnet/val_data/masks_with_axons/']\n",
    "masks = pd.DataFrame()\n",
    "for path in PATH : \n",
    "    for root, _, files in os.walk(path):\n",
    "        images = [os.path.join(root, f) for f in files]\n",
    "        for image in images : \n",
    "            angles = []\n",
    "            image_name = os.path.splitext(os.path.basename(image))[0]\n",
    "            image_name = re.sub('mask', 'image', image_name)\n",
    "            img = cv2.imread(image) \n",
    "            th, threshed = cv2.threshold(img, 240, 256, cv2.THRESH_BINARY_INV)\n",
    "            threshed = cv2.cvtColor(threshed, cv2.COLOR_BGR2GRAY)\n",
    "            contours, _ = cv2.findContours(threshed, cv2.RETR_LIST, cv2.CHAIN_APPROX_NONE)\n",
    "            for i,c in enumerate(contours):\n",
    "              # area of each contour\n",
    "              area = cv2.contourArea(c)\n",
    "              # ignore contour which is too small or large\n",
    "              if area < 1e2 or 1e5 < area:\n",
    "                continue\n",
    "\n",
    "              # draw each contour only for visualization\n",
    "              cv2.drawContours(img, contours, i, (0, 0, 255), 2)\n",
    "              # find orientation of each shape\n",
    "              angle = int(np.rad2deg(getPCA(c,threshed))) + 90\n",
    "              if angle >= 180 : \n",
    "                angle = angle-180\n",
    "              angles.append(angle)\n",
    "            masks[image_name] = [angles]\n",
    "            #cv2.imshow('Result',img)\n",
    "            #cv2.waitKey(0) \n",
    "            #cv2.destroyAllWindows() \n",
    "masks"
   ]
  },
  {
   "cell_type": "code",
   "execution_count": 84,
   "id": "f2c8ffbc-60ef-4396-aa87-c0e3367bad8a",
   "metadata": {},
   "outputs": [
    {
     "data": {
      "image/png": "[encoded data removed]",
      "text/plain": [
       "<Figure size 432x288 with 1 Axes>"
      ]
     },
     "metadata": {
      "needs_background": "light"
     },
     "output_type": "display_data"
    }
   ],
   "source": [
    "g = []\n",
    "s_g=[]\n",
    "n_g = []\n",
    "for image in masks:\n",
    "    if image in grid:\n",
    "        g.append(masks[image][0]) #- result[image][0]*np.ones(len(masks[image][0])))\n",
    "    elif image in small_grid : \n",
    "        s_g.append(masks[image][0])\n",
    "    elif image in no_grid : \n",
    "        n_g.append(masks[image][0])\n",
    "\n",
    "x, bins, p=plt.hist(list(chain.from_iterable(g)), alpha=0.5, label='grid', bins=20)\n",
    "for item in p:\n",
    "    item.set_height(item.get_height()/sum(x))\n",
    "x, bins, p=plt.hist(list(chain.from_iterable(s_g)), alpha=0.5, label='small_grid', bins=20)\n",
    "for item in p:\n",
    "    item.set_height(item.get_height()/sum(x))\n",
    "x, bins, p=plt.hist(list(chain.from_iterable(n_g)), alpha=0.5, label='no_grid', bins=20)\n",
    "for item in p:\n",
    "    item.set_height(item.get_height()/sum(x))\n",
    "plt.ylim([0, 0.16])\n",
    "plt.xlabel('Orientation in degrees from vertical')\n",
    "plt.ylabel('Fraction of axons')\n",
    "plt.legend()\n",
    "#plt.show()\n",
    "plt.savefig('histogram.png')"
   ]
  },
  {
   "cell_type": "code",
   "execution_count": 85,
   "id": "7a26203b-c1b4-4cc9-857f-93b8ca6e97b1",
   "metadata": {},
   "outputs": [
    {
     "name": "stdout",
     "output_type": "stream",
     "text": [
      "KstestResult(statistic=0.09036799633720598, pvalue=0.400643938249875)\n",
      "KstestResult(statistic=0.2608967348851742, pvalue=0.0013479471279123079)\n",
      "KstestResult(statistic=0.2073856034252074, pvalue=0.015771546862439534)\n"
     ]
    }
   ],
   "source": [
    "from scipy.stats import ks_2samp\n",
    "print(ks_2samp(list(chain.from_iterable(g)), list(chain.from_iterable(s_g))))\n",
    "print(ks_2samp(list(chain.from_iterable(g)), list(chain.from_iterable(n_g))))\n",
    "print(ks_2samp(list(chain.from_iterable(s_g)), list(chain.from_iterable(n_g))))"
   ]
  },
  {
   "cell_type": "code",
   "execution_count": 57,
   "id": "ca6dd8d0-e9de-4ff6-a139-9b9fba13b4a3",
   "metadata": {},
   "outputs": [],
   "source": [
    "PATH = ['ternausnet/test_data/images/', 'ternausnet/train_data/images/', 'ternausnet/val_data/images/']\n",
    "#PATH = 'ternausnet/train_data/images/'\n",
    "\n",
    "image_grid_23 = []\n",
    "image_grid_51 = []\n",
    "true_angles = [int(np.rad2deg(atan(0.23))), int(np.rad2deg(atan(0.51)))]\n",
    "\n",
    "for path in PATH : \n",
    "    for root, _, files in os.walk(path):\n",
    "        images = [os.path.join(root, f) for f in files]\n",
    "        for image in images :\n",
    "            angle_grid = 0\n",
    "            # Read image \n",
    "            image_name = os.path.splitext(os.path.basename(image))[0]\n",
    "            img = cv2.imread(image, cv2.IMREAD_COLOR) # road.png is the filename\n",
    "            # Convert the image to gray-scale\n",
    "            gray = cv2.cvtColor(img, cv2.COLOR_BGR2GRAY)\n",
    "            # Find the edges in the image using canny detector\n",
    "            edges = cv2.Canny(gray, 110, 140)\n",
    "            lines = cv2.HoughLinesP(edges, 1, np.pi/180, 100, minLineLength=800, maxLineGap=800)\n",
    "            # Draw lines on the image\n",
    "            angles = []\n",
    "            if lines is not None: \n",
    "                for line in lines:\n",
    "                    x1, y1, x2, y2 = line[0]\n",
    "                    slope = ((y2-y1)/(x1-x2))\n",
    "                    angles.append(int(np.rad2deg(atan(round(slope, 2)))))\n",
    "                    #angles.append(round(slope, 2))\n",
    "                c = Counter(angles)\n",
    "                most_commons = c.most_common(3)\n",
    "                if most_commons[0][0] in true_angles :\n",
    "                    angle_grid = most_commons[0][0]\n",
    "                    if angle_grid == true_angles[0] : \n",
    "                        image_grid_23.append(masks[image_name].values[0])\n",
    "                    else : \n",
    "                        image_grid_51.append(masks[image_name].values[0])\n",
    "                elif len(most_commons) > 1 : \n",
    "                    if most_commons[1][0] in true_angles :\n",
    "                        angle_grid = most_commons[1][0]\n",
    "                        if angle_grid == true_angles[0] : \n",
    "                            image_grid_23.append(masks[image_name].values[0])\n",
    "                        else : \n",
    "                            image_grid_51.append(masks[image_name].values[0])"
   ]
  },
  {
   "cell_type": "code",
   "execution_count": 91,
   "id": "0f3c52e2-ee85-4d25-963b-27d881b31289",
   "metadata": {},
   "outputs": [
    {
     "data": {
      "image/png": "[encoded data removed]",
      "text/plain": [
       "<Figure size 432x288 with 1 Axes>"
      ]
     },
     "metadata": {
      "needs_background": "light"
     },
     "output_type": "display_data"
    }
   ],
   "source": [
    "images_23 = list(chain.from_iterable(image_grid_23))\n",
    "images_51 = list(chain.from_iterable(image_grid_51))\n",
    "values = np.concatenate((images_23-(90-int(np.rad2deg(atan(0.23))))*np.ones(len(images_23)), images_51-(90-int(np.rad2deg(atan(0.51))))*np.ones(len(images_51))), axis=None)\n",
    "for i in range(len(values)) : \n",
    "    if values[i] <-45 : values[i] += 90\n",
    "    elif values[i] >45 : values[i] -= 90\n",
    "x, bins, p=plt.hist(values, bins=20)\n",
    "for item in p:\n",
    "    item.set_height(item.get_height()/sum(x))\n",
    "plt.axvline(0, color='r', linestyle='dashed', linewidth=1)\n",
    "plt.ylim([0, 0.16])\n",
    "plt.xlabel('Orientation in degrees from grid slope')\n",
    "plt.ylabel('Fraction of axons')\n",
    "plt.savefig('histogram_orientation.png')\n",
    "plt.show()"
   ]
  },
  {
   "cell_type": "code",
   "execution_count": 87,
   "id": "f9699a13-56d1-4e0f-b1e6-d7e3bd3cba72",
   "metadata": {},
   "outputs": [
    {
     "data": {
      "text/plain": [
       "NormaltestResult(statistic=0.46185285576065593, pvalue=0.7937978652784781)"
      ]
     },
     "execution_count": 87,
     "metadata": {},
     "output_type": "execute_result"
    }
   ],
   "source": [
    "from scipy.stats import normaltest\n",
    "normaltest(values)"
   ]
  },
  {
   "cell_type": "code",
   "execution_count": 88,
   "id": "c3cb6631-c56d-4483-b486-cd77c3375e20",
   "metadata": {},
   "outputs": [
    {
     "data": {
      "text/plain": [
       "array([  8.,   2.,  90.,  19.,  39.,   8., -23.,  77.,  57.,   4., -60.,\n",
       "        30., -64., -32.,  -4.,   2., -41.,  43.,  26., -15.,   0.,   5.,\n",
       "        -2.,  25.,  30., -32., -74.,   1., -22.,  12.,  48., -29.,  40.,\n",
       "        24., -27., -12.,   3.,  74.,  -3.,  10.,   0.,  -2.,  -2.,   6.,\n",
       "       -63., -36., -37., -11.,   4.,  93.,  24.,  19.,  33.,  47.,  93.,\n",
       "        52.,  56.,  57.,  21., -13.,  -2.,   4.,  13.,  36.,   4.,   6.,\n",
       "         3.,  20.,  30., -69.,   4.,  54.,  12., -58., -55.,  24.,  12.,\n",
       "        -2.,  -7.,   1.,  25.,  17.,  49.,  -8.,  -6., -49.,  35.,  43.,\n",
       "        25., -29.,  -6.,  46.,  18., -43.,  31.,  26.,  32., -47., 113.,\n",
       "        53.,  20.,  11.,  24.,  -6.,  20.,  75.,  36., -25.,  33., -33.,\n",
       "       -48.,  28.,  43.,  17.,  40., -17., -29.,  93., 101., -49.,   3.,\n",
       "        47.,  16.,  42.,  10.,  49., -19.,  38., -17.,  15.,  25.,  55.,\n",
       "        30.,  43.,  46.,  95.,   1., -58.,   7., -55., -27.,  52., -14.,\n",
       "        89., -20.,  88.,  50.,  34.,  27.,   1.,  85.,  60.,  -5.,  93.,\n",
       "       -41., 102.,  25.,  51., -51.,  60.])"
      ]
     },
     "execution_count": 88,
     "metadata": {},
     "output_type": "execute_result"
    }
   ],
   "source": []
  },
  {
   "cell_type": "code",
   "execution_count": null,
   "id": "8d45d8b2-30d2-450b-b0b9-142567cb438b",
   "metadata": {},
   "outputs": [],
   "source": []
  }
 ],
 "metadata": {
  "kernelspec": {
   "display_name": "Python 3 (ipykernel)",
   "language": "python",
   "name": "python3"
  },
  "language_info": {
   "codemirror_mode": {
    "name": "ipython",
    "version": 3
   },
   "file_extension": ".py",
   "mimetype": "text/x-python",
   "name": "python",
   "nbconvert_exporter": "python",
   "pygments_lexer": "ipython3",
   "version": "3.9.7"
  }
 },
 "nbformat": 4,
 "nbformat_minor": 5
}
