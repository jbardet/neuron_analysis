{
 "cells": [
  {
   "cell_type": "code",
   "execution_count": 1,
   "id": "7e686012-a70a-4729-ac2a-957ad9090b1c",
   "metadata": {},
   "outputs": [],
   "source": [
    "import numpy as np\n",
    "# to compute angles\n",
    "from math import atan2, cos, sin, sqrt, pi\n",
    "import cv2\n",
    "from collections import Counter"
   ]
  },
  {
   "cell_type": "code",
   "execution_count": null,
   "id": "0d405c31-1538-455a-82b2-0295fa2594b5",
   "metadata": {},
   "outputs": [],
   "source": [
    "# Read image \n",
    "img = cv2.imread('ternausnet/test_data/images/image_1.tif', cv2.IMREAD_COLOR)\n",
    "# Convert the image to gray-scale\n",
    "gray = cv2.cvtColor(img, cv2.COLOR_BGR2GRAY)\n",
    "# Find the edges in the image using canny detector\n",
    "edges = cv2.Canny(gray, 110, 140)\n",
    "lines = cv2.HoughLinesP(edges, 1, np.pi/180, 100, minLineLength=600, maxLineGap=800)\n",
    "# Draw lines on the image\n",
    "angles = []\n",
    "if lines is not None: \n",
    "    for line in lines:\n",
    "        x1, y1, x2, y2 = line[0]\n",
    "        slope = ((y2-y1)/(x1-x2))\n",
    "        if round(slope, 2) == 0.23 or round(slope, 2) == 0.51:\n",
    "            cv2.line(img, (x1, y1), (x2, y2), (255, 0, 0), 3)\n",
    "        angles.append(round(slope, 2))\n",
    "    c = Counter(angles)\n",
    "    most_commons = c.most_common(3)\n",
    "cv2.putText(img, 'Slope = '+ str(round(slope, 2)), (10,450), cv2.FONT_HERSHEY_SIMPLEX, 1, (255, 0, 0), 2, cv2.LINE_AA)\n",
    "cv2.imshow(\"Result Image\", img)\n",
    "cv2.waitKey(0)"
   ]
  },
  {
   "cell_type": "code",
   "execution_count": null,
   "id": "e5249216-2ed0-4eb9-b90b-8e86b11d05f8",
   "metadata": {},
   "outputs": [],
   "source": []
  }
 ],
 "metadata": {
  "kernelspec": {
   "display_name": "Python 3 (ipykernel)",
   "language": "python",
   "name": "python3"
  },
  "language_info": {
   "codemirror_mode": {
    "name": "ipython",
    "version": 3
   },
   "file_extension": ".py",
   "mimetype": "text/x-python",
   "name": "python",
   "nbconvert_exporter": "python",
   "pygments_lexer": "ipython3",
   "version": "3.9.7"
  }
 },
 "nbformat": 4,
 "nbformat_minor": 5
}
